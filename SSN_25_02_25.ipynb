{
  "nbformat": 4,
  "nbformat_minor": 0,
  "metadata": {
    "colab": {
      "provenance": [],
      "authorship_tag": "ABX9TyO6kLA6boI7OJnxAG5XkU3V",
      "include_colab_link": true
    },
    "kernelspec": {
      "name": "python3",
      "display_name": "Python 3"
    },
    "language_info": {
      "name": "python"
    }
  },
  "cells": [
    {
      "cell_type": "markdown",
      "metadata": {
        "id": "view-in-github",
        "colab_type": "text"
      },
      "source": [
        "<a href=\"https://colab.research.google.com/github/Gvitagliano/SSN/blob/main/SSN_25_02_25.ipynb\" target=\"_parent\"><img src=\"https://colab.research.google.com/assets/colab-badge.svg\" alt=\"Open In Colab\"/></a>"
      ]
    },
    {
      "cell_type": "markdown",
      "source": [
        "1.- Revisar els exemples del mètode numèric proposat per R. Feynmann per a resoldre les equacions\n",
        " del moviment i la seva implementació en python (script o Google Colab) així com el material\n",
        " discutit a classe durant aquesta setmana. Recordeu que els programes estan disponibles a:\n",
        " https://github.com/jfaraudo/Numerical-Newton-examples/\n"
      ],
      "metadata": {
        "id": "8Xijv2A7PWUA"
      }
    },
    {
      "cell_type": "code",
      "source": [
        "import numpy as np\n",
        "import matplotlib.pyplot as plt"
      ],
      "metadata": {
        "id": "d2t8r5f7QNSm"
      },
      "execution_count": 4,
      "outputs": []
    },
    {
      "cell_type": "markdown",
      "source": [
        "a) Escriure les equacions que descriuen l'evolució de la posició i de la velocitat en aquest mètode\n",
        " (en general, no per un exemple específic) i compareu-les amb les equacions corresponents al\n",
        " mètode de velocity Verlet."
      ],
      "metadata": {
        "id": "LpE9uVQ9PYaB"
      }
    },
    {
      "cell_type": "markdown",
      "source": [
        "**El método de Feynman ocupa estas ecuaciones:**\n",
        "\n",
        "v(ϵ/2)=v$_0$+$\\frac{a(0)ϵ}{2}$\n",
        "\n",
        "x(t+ϵ)=x(t)+ϵv(t+ϵ/2),\n",
        "\n",
        "v(t+ϵ/2)=v(t−ϵ/2)+ϵa(t),\n",
        "\n",
        "a(t+ϵ)=f(t+ϵ)/m\n",
        "\n",
        "\n",
        "**Mientras que el método Velocity Verlet ocupa las siguientes:**\n",
        "\n",
        "x(t+ϵ) = x(t)+ϵv(t)+$\\frac{1}{2}$*a(t)*ϵ$^2$\n",
        "\n",
        "a(t+ϵ)=f(t+ϵ)/m\n",
        "\n",
        "v(t+ϵ)=v(t)+$\\frac{a(t)+a(t+ϵ)}{2}$ϵ\n",
        "\n",
        "**Es interesante que en el método de Feynman para el cálculo de la velocidad usa la aceleración en el tiempo entre la velocidad de antes y la de después mientras que la de Verlet utiliza el promedio de las aceleraciones. Ambos son intentos de corregir la reversibilidad de la expresión del método de Euler.**"
      ],
      "metadata": {
        "id": "OuAO7lLCT-11"
      }
    },
    {
      "cell_type": "code",
      "execution_count": null,
      "metadata": {
        "id": "RIekhPxB0EB1"
      },
      "outputs": [],
      "source": [
        "dt = float(input(\"\\n Time step dt (in ns):\\n>\"))\n",
        "ntot = int(input(\"\\n Number of time steps:\\n>\"))\n",
        "\n",
        "# Feynman method\n",
        "\n",
        "x = np.zeros(ntot+1)\n",
        "v = np.zeros(ntot+1)\n",
        "t = np.zeros(ntot+1)\n",
        "\n",
        "t[0] = 0.0\n",
        "x[0] = x0\n",
        "v[0] = v0\n",
        "\n",
        "f = -k*x[0]\n",
        "a[0] = f/m\n",
        "\n",
        "v_hs = v[0]+(dt/2.0)*a\n",
        "\n",
        "i=1\n",
        "\n",
        "while i<ntot:\n",
        "    # Calculate acceleration at present position x(t)\n",
        "    a = -x[i]\n",
        "\t  #Velocity change from t-dt/2 to t+dt/2\n",
        "    v_hs = v_hs+a*dt\n",
        "    # New position at t+dt\n",
        "    x[i+1] = x[i]+dt*v_hs\n",
        "    #Update time\n",
        "    t[i+1] = t[i]+dt\n",
        "    #update counter\n",
        "    i=i+1\n",
        "\n",
        "# Velocity Verlet\n",
        "\n",
        "t = np.zeros(ntot+1)\n",
        "x = np.zeros(ntot+1)\n",
        "v = np.zeros(ntot+1)\n",
        "a = np.zeros(ntot+1)\n",
        "\n",
        "x[0] = x0\n",
        "v[0] = v0\n",
        "\n",
        "f = -k*x[0]\n",
        "a[0] = f/m\n",
        "\n",
        "for i in range(1, ntot+1):\n",
        "    print(i)\n",
        "\n",
        "    # Update time\n",
        "    t[i] = t[i-1]+dt\n",
        "\n",
        "    # New position\n",
        "    x[i] = x[i-1]+v[i-1]*dt+(1.0/2.0)*a[i-1]*dt*dt\n",
        "\n",
        "    # Calculate Force at new position\n",
        "    f = -k*x[i]\n",
        "    # Calculate acceleration from 2nd Law\n",
        "    a[i] = f/m\n",
        "\n",
        "    # Velocity at new position\n",
        "    am=(a[i-1]+a[i])/2.0\n",
        "    v[i]= v[i-1]+am*dt\n",
        "\n",
        "    #Update time\n",
        "    t[i] = t[i-1]+dt"
      ]
    },
    {
      "cell_type": "markdown",
      "source": [
        " b) En el programa d'exemple del mètode de Velocity Verlet (i en el del mètode d'Euler també) en\n",
        " cada pas de temps dt avaluem l'energia total (potencial i cinètica) per tal de verificar la conservació\n",
        " de l'energia. En canvi, això no està implementat en els exemples del mètode proposat per\n",
        " Feynmann. Perquè? Proposa una modificació que implementi aquest càlcul"
      ],
      "metadata": {
        "id": "vKZoSO_gPbdq"
      }
    },
    {
      "cell_type": "code",
      "source": [
        "x0 = float(input(\"\\n Initial position (in nm):\\n>\"))\n",
        "v0 = float(input(\"\\n Initial velocity (in m/s):\\n>\"))\n",
        "dt = float(input(\"\\n Time step dt (in ns):\\n>\"))\n",
        "ntot = int(input(\"\\n Number of time steps:\\n>\"))\n",
        "\n",
        "# mass\n",
        "m = 1.0\n",
        "# Period in ns\n",
        "T = 1.0\n",
        "#frequency\n",
        "w = 2.0*np.pi/T\n",
        "#Force constant\n",
        "k=m*w*w\n",
        "\n",
        "E0=(m/2.0)*v0**2+(k/2)*x0**2 # Initial energy\n",
        "\n",
        "x = np.zeros(ntot+1)\n",
        "v = np.zeros(ntot+1)\n",
        "t = np.zeros(ntot+1)\n",
        "\n",
        "t[0] = 0.0\n",
        "x[0] = x0\n",
        "v[0] = v0\n",
        "\n",
        "a = -k*x[0]/m\n",
        "\n",
        "v_hs = v[0]+(dt/2.0)*a\n",
        "\n",
        "i=1\n",
        "\n",
        "while i<ntot:\n",
        "    # Calculate acceleration at present position x(t)\n",
        "  a = -k*x[i]/m\n",
        "\t  #Velocity change from t-dt/2 to t+dt/2\n",
        "  v_hs = v_hs+a*dt\n",
        "    # New position at t+dt\n",
        "  x[i+1] = x[i]+dt*v_hs\n",
        "    #Update time\n",
        "  t[i+1] = t[i]+dt\n",
        "    #Update velocity\n",
        "  v[i + 1] = v_hs + (dt / 2.0) * a\n",
        "    #update counter\n",
        "  i=i+1\n",
        "\n",
        "E=(m/2.0)*v**2+(k/2)*x**2\n",
        "#Relative value (E/E0)\n",
        "RE=E/E0\n",
        "plt.plot(t,RE,'k')\n",
        "plt.xlabel('time (ns)')\n",
        "plt.ylabel('E/E0')"
      ],
      "metadata": {
        "colab": {
          "base_uri": "https://localhost:8080/",
          "height": 675
        },
        "id": "bX3jonjwPeZa",
        "outputId": "c421c1f8-cb59-4ed0-95da-173cc5843762"
      },
      "execution_count": 14,
      "outputs": [
        {
          "name": "stdout",
          "output_type": "stream",
          "text": [
            "\n",
            " Initial position (in nm):\n",
            ">1\n",
            "\n",
            " Initial velocity (in m/s):\n",
            ">100\n",
            "\n",
            " Time step dt (in ns):\n",
            ">0.1\n",
            "\n",
            " Number of time steps:\n",
            ">50\n"
          ]
        },
        {
          "output_type": "execute_result",
          "data": {
            "text/plain": [
              "Text(0, 0.5, 'E/E0')"
            ]
          },
          "metadata": {},
          "execution_count": 14
        },
        {
          "output_type": "display_data",
          "data": {
            "text/plain": [
              "<Figure size 640x480 with 1 Axes>"
            ],
            "image/png": "[encoded data removed]"
          },
          "metadata": {}
        }
      ]
    },
    {
      "cell_type": "markdown",
      "source": [
        "c) Compara la modificació proposada a (b) amb el mètode de Velocity Verlet."
      ],
      "metadata": {
        "id": "oN0CyIsiPe-W"
      }
    },
    {
      "cell_type": "code",
      "source": [
        "x0 = float(input(\"\\n Initial position (in nm):\\n>\"))\n",
        "v0 = float(input(\"\\n Initial velocity (in m/s):\\n>\"))\n",
        "dt = float(input(\"\\n Time step dt (in ns):\\n>\"))\n",
        "ntot = int(input(\"\\n Number of time steps:\\n>\"))\n",
        "\n",
        "# mass\n",
        "m = 1.0\n",
        "# Period in ns\n",
        "T = 1.0\n",
        "#frequency\n",
        "w = 2.0*np.pi/T\n",
        "#Force constant\n",
        "k=m*w*w\n",
        "\n",
        "E0=(m/2.0)*v0**2+(k/2)*x0**2 # Initial energy\n",
        "\n",
        "# Feynman method\n",
        "\n",
        "x_F = np.zeros(ntot+1)\n",
        "v_F = np.zeros(ntot+1)\n",
        "t = np.zeros(ntot+1)\n",
        "\n",
        "t[0] = 0.0\n",
        "x_F[0] = x0\n",
        "v_F[0] = v0\n",
        "\n",
        "a = -k*x[0]/m\n",
        "\n",
        "v_hs = v[0]+(dt/2.0)*a\n",
        "\n",
        "i=1\n",
        "\n",
        "while i<ntot:\n",
        "    # Calculate acceleration at present position x(t)\n",
        "  a = -k*x[i]/m\n",
        "\t  #Velocity change from t-dt/2 to t+dt/2\n",
        "  v_hs = v_hs+a*dt\n",
        "    # New position at t+dt\n",
        "  x_F[i+1] = x[i]+dt*v_hs\n",
        "    #Update time\n",
        "  t[i+1] = t[i]+dt\n",
        "    #Update velocity\n",
        "  v_F[i + 1] = v_hs + (dt / 2.0) * a\n",
        "    #update counter\n",
        "  i=i+1\n",
        "\n",
        "E_F=(m/2.0)*v_F**2+(k/2)*x_F**2\n",
        "#Relative value (E/E0)\n",
        "RE_F=E_F/E0\n",
        "\n",
        "# Verlet method\n",
        "\n",
        "t = np.zeros(ntot+1)\n",
        "x = np.zeros(ntot+1)\n",
        "v = np.zeros(ntot+1)\n",
        "a = np.zeros(ntot+1)\n",
        "\n",
        "#Initial conditions\n",
        "x[0] = x0\n",
        "v[0] = v0\n",
        "\n",
        "#Force and acceleration at t=0\n",
        "f = -k*x[0]\n",
        "a[0] = f/m\n",
        "\n",
        "# Time evolution\n",
        "\n",
        "for i in range(1, ntot+1):\n",
        "    # Update time\n",
        "  t[i] = t[i-1]+dt\n",
        "    # New position\n",
        "  x[i] = x[i-1]+v[i-1]*dt+(1.0/2.0)*a[i-1]*dt*dt\n",
        "    # Calculate Force at new position\n",
        "  f = -k*x[i]\n",
        "    # Calculate acceleration from 2nd Law\n",
        "  a[i] = f/m\n",
        "    # Velocity at new position\n",
        "  am=(a[i-1]+a[i])/2.0\n",
        "  v[i]= v[i-1]+am*dt\n",
        "    #Update time\n",
        "  t[i] = t[i-1]+dt\n",
        "\n",
        "#energy at all steps\n",
        "E=(m/2.0)*v*v+(k/2)*x*x\n",
        "RE=E/E0\n",
        "\n",
        "plt.plot(t,RE_F,'r',label='Feynman')\n",
        "plt.plot(t,RE,'b',label='Verlet')\n",
        "plt.xlabel('time (ns)')\n",
        "plt.ylabel('E/E0')\n",
        "plt.legend()\n",
        "plt.show()"
      ],
      "metadata": {
        "colab": {
          "base_uri": "https://localhost:8080/",
          "height": 657
        },
        "id": "fZjSJDrUPhhf",
        "outputId": "9a6e96fa-dace-4068-8a5b-beb6a6961f76"
      },
      "execution_count": 19,
      "outputs": [
        {
          "name": "stdout",
          "output_type": "stream",
          "text": [
            "\n",
            " Initial position (in nm):\n",
            ">1\n",
            "\n",
            " Initial velocity (in m/s):\n",
            ">50\n",
            "\n",
            " Time step dt (in ns):\n",
            ">0.1\n",
            "\n",
            " Number of time steps:\n",
            ">50\n"
          ]
        },
        {
          "output_type": "display_data",
          "data": {
            "text/plain": [
              "<Figure size 640x480 with 1 Axes>"
            ],
            "image/png": "[encoded data removed]"
          },
          "metadata": {}
        }
      ]
    },
    {
      "cell_type": "markdown",
      "source": [
        "Se puede observar como ambos métodos conservan la energía en un intervalo. Es importante notar que el método de Verlet fluctúa mucho menos y no tiene el pico en energía que tiene el método de Feynman al principio."
      ],
      "metadata": {
        "id": "jQiV5o58laxG"
      }
    },
    {
      "cell_type": "markdown",
      "source": [
        " 2.- Escriviu l'equació d'Schrödinger en unitats SI i en unitats atòmiques per un exemple que hagiu\n",
        " estudiat en les assignatures prèvies (per exemple, a Fenòmens Quantics I, II o a qualsevol altre).\n",
        " Podeu revisar la definició d'unitats atòmiques en qualsevol dels links sobre aquestes unitats que\n",
        " teniu al Campus Virtual (per exemple el link a Libre Text) o bé dels vostres apunts d'altres\n",
        " assignatures."
      ],
      "metadata": {
        "id": "oNOob3XTPiFu"
      }
    },
    {
      "cell_type": "markdown",
      "source": [
        "La ecuación de Schrödinger para un electron en un pozo de potencial cuadrado infinito de longitud L y con el 0 en uno de los extremos del pozo se cumple de la siguiente manera:\n",
        "\n",
        "En SI:\n",
        "\n",
        "-$\\frac{\\hbar^2}{2m_e}$$\\sqrt{\\frac{2}{L}}$$\\frac{∂^2}{∂x^2}$sin($\\frac{nπx}{L}$)=$\\frac{π^2\\hbar^2n^2}{2m_eL^2}$sin($\\frac{nπx}{L}$)\n",
        "\n",
        "Y, en unidades atómicas:\n",
        "\n",
        "-$\\frac{1}{2}$$\\sqrt{\\frac{2}{L}}$$\\frac{∂^2}{∂x^2}$sin($\\frac{nπx}{L}$)=$\\frac{π^2n^2}{2L^2}$sin($\\frac{nπx}{L}$)"
      ],
      "metadata": {
        "id": "DR1wsspxbEmS"
      }
    }
  ]
}